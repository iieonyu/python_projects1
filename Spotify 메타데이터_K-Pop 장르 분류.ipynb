{
 "cells": [
  {
   "cell_type": "markdown",
   "id": "a1cbfd0f",
   "metadata": {},
   "source": [
    "# 라이브러리"
   ]
  },
  {
   "cell_type": "code",
   "execution_count": 1,
   "id": "592e0094",
   "metadata": {},
   "outputs": [],
   "source": [
    "# 데이터 핸들링 및 기타\n",
    "import numpy as np\n",
    "import pandas as pd\n",
    "import time\n",
    "import random\n",
    "\n",
    "# 시각화 모듈\n",
    "import matplotlib.pyplot as plt\n",
    "import matplotlib.colors as mcl\n",
    "from matplotlib.colors import LinearSegmentedColormap\n",
    "%matplotlib inline\n",
    "import seaborn as sns\n",
    "\n",
    "# 데이터 전처리 모듈\n",
    "from sklearn.preprocessing import LabelEncoder\n",
    "from sklearn.preprocessing import StandardScaler, MinMaxScaler\n",
    "from sklearn.model_selection import KFold, StratifiedKFold, RepeatedKFold, RepeatedStratifiedKFold\n",
    "from sklearn.model_selection import train_test_split, cross_val_score, cross_validate\n",
    "from imblearn.under_sampling import *\n",
    "from imblearn.over_sampling import *\n",
    "\n",
    "# ML 모듈\n",
    "from sklearn.svm import SVC\n",
    "from sklearn.neighbors import KNeighborsClassifier\n",
    "from sklearn.ensemble import RandomForestClassifier \n",
    "from xgboost import XGBClassifier\n",
    "from lightgbm import LGBMClassifier\n",
    "from sklearn.tree import DecisionTreeClassifier\n",
    "from mlxtend.classifier import StackingCVClassifier\n",
    "from sklearn.ensemble import VotingClassifier\n",
    "from sklearn.model_selection import RandomizedSearchCV, GridSearchCV\n",
    "\n",
    "# 평가 모듈\n",
    "from sklearn.metrics import accuracy_score, recall_score, precision_score\n",
    "from sklearn.decomposition import PCA\n",
    "from sklearn import metrics"
   ]
  },
  {
   "cell_type": "markdown",
   "id": "7094e4b6",
   "metadata": {},
   "source": [
    "# 데이터 전처리"
   ]
  },
  {
   "cell_type": "code",
   "execution_count": 3,
   "id": "cadd2e7c",
   "metadata": {
    "scrolled": false
   },
   "outputs": [
    {
     "data": {
      "text/html": [
       "<div>\n",
       "<style scoped>\n",
       "    .dataframe tbody tr th:only-of-type {\n",
       "        vertical-align: middle;\n",
       "    }\n",
       "\n",
       "    .dataframe tbody tr th {\n",
       "        vertical-align: top;\n",
       "    }\n",
       "\n",
       "    .dataframe thead th {\n",
       "        text-align: right;\n",
       "    }\n",
       "</style>\n",
       "<table border=\"1\" class=\"dataframe\">\n",
       "  <thead>\n",
       "    <tr style=\"text-align: right;\">\n",
       "      <th></th>\n",
       "      <th>danceability</th>\n",
       "      <th>energy</th>\n",
       "      <th>key</th>\n",
       "      <th>loudness</th>\n",
       "      <th>mode</th>\n",
       "      <th>speechiness</th>\n",
       "      <th>acousticness</th>\n",
       "      <th>instrumentalness</th>\n",
       "      <th>liveness</th>\n",
       "      <th>valence</th>\n",
       "      <th>tempo</th>\n",
       "      <th>duration_ms</th>\n",
       "      <th>time_signature</th>\n",
       "      <th>genre</th>\n",
       "      <th>genre2</th>\n",
       "    </tr>\n",
       "  </thead>\n",
       "  <tbody>\n",
       "    <tr>\n",
       "      <th>0</th>\n",
       "      <td>0.681</td>\n",
       "      <td>0.500</td>\n",
       "      <td>10</td>\n",
       "      <td>-8.854</td>\n",
       "      <td>1</td>\n",
       "      <td>0.0294</td>\n",
       "      <td>0.56600</td>\n",
       "      <td>0.000000</td>\n",
       "      <td>0.1120</td>\n",
       "      <td>0.306</td>\n",
       "      <td>119.993</td>\n",
       "      <td>257333</td>\n",
       "      <td>4</td>\n",
       "      <td>acoustic</td>\n",
       "      <td>acoustic</td>\n",
       "    </tr>\n",
       "    <tr>\n",
       "      <th>1</th>\n",
       "      <td>0.773</td>\n",
       "      <td>0.394</td>\n",
       "      <td>0</td>\n",
       "      <td>-9.252</td>\n",
       "      <td>1</td>\n",
       "      <td>0.0516</td>\n",
       "      <td>0.62700</td>\n",
       "      <td>0.000014</td>\n",
       "      <td>0.0953</td>\n",
       "      <td>0.443</td>\n",
       "      <td>74.977</td>\n",
       "      <td>212707</td>\n",
       "      <td>4</td>\n",
       "      <td>acoustic</td>\n",
       "      <td>acoustic</td>\n",
       "    </tr>\n",
       "    <tr>\n",
       "      <th>2</th>\n",
       "      <td>0.584</td>\n",
       "      <td>0.509</td>\n",
       "      <td>2</td>\n",
       "      <td>-13.109</td>\n",
       "      <td>1</td>\n",
       "      <td>0.0287</td>\n",
       "      <td>0.26700</td>\n",
       "      <td>0.002520</td>\n",
       "      <td>0.3600</td>\n",
       "      <td>0.367</td>\n",
       "      <td>90.457</td>\n",
       "      <td>175480</td>\n",
       "      <td>4</td>\n",
       "      <td>acoustic</td>\n",
       "      <td>acoustic</td>\n",
       "    </tr>\n",
       "    <tr>\n",
       "      <th>3</th>\n",
       "      <td>0.640</td>\n",
       "      <td>0.355</td>\n",
       "      <td>9</td>\n",
       "      <td>-8.579</td>\n",
       "      <td>1</td>\n",
       "      <td>0.0292</td>\n",
       "      <td>0.63700</td>\n",
       "      <td>0.000120</td>\n",
       "      <td>0.1080</td>\n",
       "      <td>0.208</td>\n",
       "      <td>127.874</td>\n",
       "      <td>245840</td>\n",
       "      <td>4</td>\n",
       "      <td>acoustic</td>\n",
       "      <td>acoustic</td>\n",
       "    </tr>\n",
       "    <tr>\n",
       "      <th>4</th>\n",
       "      <td>0.327</td>\n",
       "      <td>0.710</td>\n",
       "      <td>3</td>\n",
       "      <td>-2.928</td>\n",
       "      <td>1</td>\n",
       "      <td>0.0547</td>\n",
       "      <td>0.20200</td>\n",
       "      <td>0.000090</td>\n",
       "      <td>0.2800</td>\n",
       "      <td>0.416</td>\n",
       "      <td>179.561</td>\n",
       "      <td>175200</td>\n",
       "      <td>4</td>\n",
       "      <td>acoustic</td>\n",
       "      <td>acoustic</td>\n",
       "    </tr>\n",
       "    <tr>\n",
       "      <th>...</th>\n",
       "      <td>...</td>\n",
       "      <td>...</td>\n",
       "      <td>...</td>\n",
       "      <td>...</td>\n",
       "      <td>...</td>\n",
       "      <td>...</td>\n",
       "      <td>...</td>\n",
       "      <td>...</td>\n",
       "      <td>...</td>\n",
       "      <td>...</td>\n",
       "      <td>...</td>\n",
       "      <td>...</td>\n",
       "      <td>...</td>\n",
       "      <td>...</td>\n",
       "      <td>...</td>\n",
       "    </tr>\n",
       "    <tr>\n",
       "      <th>26473</th>\n",
       "      <td>0.798</td>\n",
       "      <td>0.524</td>\n",
       "      <td>9</td>\n",
       "      <td>-13.522</td>\n",
       "      <td>1</td>\n",
       "      <td>0.0538</td>\n",
       "      <td>0.01800</td>\n",
       "      <td>0.037100</td>\n",
       "      <td>0.0960</td>\n",
       "      <td>0.917</td>\n",
       "      <td>119.137</td>\n",
       "      <td>349373</td>\n",
       "      <td>4</td>\n",
       "      <td>funk</td>\n",
       "      <td>funk</td>\n",
       "    </tr>\n",
       "    <tr>\n",
       "      <th>26474</th>\n",
       "      <td>0.810</td>\n",
       "      <td>0.611</td>\n",
       "      <td>5</td>\n",
       "      <td>-11.425</td>\n",
       "      <td>0</td>\n",
       "      <td>0.0287</td>\n",
       "      <td>0.46700</td>\n",
       "      <td>0.005980</td>\n",
       "      <td>0.1690</td>\n",
       "      <td>0.965</td>\n",
       "      <td>124.514</td>\n",
       "      <td>242440</td>\n",
       "      <td>4</td>\n",
       "      <td>funk</td>\n",
       "      <td>funk</td>\n",
       "    </tr>\n",
       "    <tr>\n",
       "      <th>26475</th>\n",
       "      <td>0.798</td>\n",
       "      <td>0.748</td>\n",
       "      <td>11</td>\n",
       "      <td>-12.163</td>\n",
       "      <td>0</td>\n",
       "      <td>0.0360</td>\n",
       "      <td>0.05550</td>\n",
       "      <td>0.105000</td>\n",
       "      <td>0.0615</td>\n",
       "      <td>0.896</td>\n",
       "      <td>122.429</td>\n",
       "      <td>386360</td>\n",
       "      <td>4</td>\n",
       "      <td>funk</td>\n",
       "      <td>funk</td>\n",
       "    </tr>\n",
       "    <tr>\n",
       "      <th>26476</th>\n",
       "      <td>0.765</td>\n",
       "      <td>0.787</td>\n",
       "      <td>5</td>\n",
       "      <td>-7.955</td>\n",
       "      <td>0</td>\n",
       "      <td>0.0478</td>\n",
       "      <td>0.00344</td>\n",
       "      <td>0.865000</td>\n",
       "      <td>0.0832</td>\n",
       "      <td>0.962</td>\n",
       "      <td>116.817</td>\n",
       "      <td>393000</td>\n",
       "      <td>4</td>\n",
       "      <td>funk</td>\n",
       "      <td>funk</td>\n",
       "    </tr>\n",
       "    <tr>\n",
       "      <th>26477</th>\n",
       "      <td>0.839</td>\n",
       "      <td>0.746</td>\n",
       "      <td>11</td>\n",
       "      <td>-9.843</td>\n",
       "      <td>0</td>\n",
       "      <td>0.0679</td>\n",
       "      <td>0.01220</td>\n",
       "      <td>0.004020</td>\n",
       "      <td>0.2680</td>\n",
       "      <td>0.848</td>\n",
       "      <td>127.154</td>\n",
       "      <td>511790</td>\n",
       "      <td>4</td>\n",
       "      <td>funk</td>\n",
       "      <td>funk</td>\n",
       "    </tr>\n",
       "  </tbody>\n",
       "</table>\n",
       "<p>26478 rows × 15 columns</p>\n",
       "</div>"
      ],
      "text/plain": [
       "       danceability  energy  key  loudness  mode  speechiness  acousticness  \\\n",
       "0             0.681   0.500   10    -8.854     1       0.0294       0.56600   \n",
       "1             0.773   0.394    0    -9.252     1       0.0516       0.62700   \n",
       "2             0.584   0.509    2   -13.109     1       0.0287       0.26700   \n",
       "3             0.640   0.355    9    -8.579     1       0.0292       0.63700   \n",
       "4             0.327   0.710    3    -2.928     1       0.0547       0.20200   \n",
       "...             ...     ...  ...       ...   ...          ...           ...   \n",
       "26473         0.798   0.524    9   -13.522     1       0.0538       0.01800   \n",
       "26474         0.810   0.611    5   -11.425     0       0.0287       0.46700   \n",
       "26475         0.798   0.748   11   -12.163     0       0.0360       0.05550   \n",
       "26476         0.765   0.787    5    -7.955     0       0.0478       0.00344   \n",
       "26477         0.839   0.746   11    -9.843     0       0.0679       0.01220   \n",
       "\n",
       "       instrumentalness  liveness  valence    tempo  duration_ms  \\\n",
       "0              0.000000    0.1120    0.306  119.993       257333   \n",
       "1              0.000014    0.0953    0.443   74.977       212707   \n",
       "2              0.002520    0.3600    0.367   90.457       175480   \n",
       "3              0.000120    0.1080    0.208  127.874       245840   \n",
       "4              0.000090    0.2800    0.416  179.561       175200   \n",
       "...                 ...       ...      ...      ...          ...   \n",
       "26473          0.037100    0.0960    0.917  119.137       349373   \n",
       "26474          0.005980    0.1690    0.965  124.514       242440   \n",
       "26475          0.105000    0.0615    0.896  122.429       386360   \n",
       "26476          0.865000    0.0832    0.962  116.817       393000   \n",
       "26477          0.004020    0.2680    0.848  127.154       511790   \n",
       "\n",
       "       time_signature     genre    genre2  \n",
       "0                   4  acoustic  acoustic  \n",
       "1                   4  acoustic  acoustic  \n",
       "2                   4  acoustic  acoustic  \n",
       "3                   4  acoustic  acoustic  \n",
       "4                   4  acoustic  acoustic  \n",
       "...               ...       ...       ...  \n",
       "26473               4      funk      funk  \n",
       "26474               4      funk      funk  \n",
       "26475               4      funk      funk  \n",
       "26476               4      funk      funk  \n",
       "26477               4      funk      funk  \n",
       "\n",
       "[26478 rows x 15 columns]"
      ]
     },
     "execution_count": 3,
     "metadata": {},
     "output_type": "execute_result"
    }
   ],
   "source": [
    "# 데이터 로드\n",
    "train = pd.read_csv('train.csv')\n",
    "train"
   ]
  },
  {
   "cell_type": "code",
   "execution_count": 4,
   "id": "96c5b566",
   "metadata": {
    "collapsed": true
   },
   "outputs": [
    {
     "name": "stdout",
     "output_type": "stream",
     "text": [
      "<class 'pandas.core.frame.DataFrame'>\n",
      "RangeIndex: 26478 entries, 0 to 26477\n",
      "Data columns (total 15 columns):\n",
      " #   Column            Non-Null Count  Dtype  \n",
      "---  ------            --------------  -----  \n",
      " 0   danceability      26478 non-null  float64\n",
      " 1   energy            26478 non-null  float64\n",
      " 2   key               26478 non-null  int64  \n",
      " 3   loudness          26478 non-null  float64\n",
      " 4   mode              26478 non-null  int64  \n",
      " 5   speechiness       26478 non-null  float64\n",
      " 6   acousticness      26478 non-null  float64\n",
      " 7   instrumentalness  26478 non-null  float64\n",
      " 8   liveness          26478 non-null  float64\n",
      " 9   valence           26478 non-null  float64\n",
      " 10  tempo             26478 non-null  float64\n",
      " 11  duration_ms       26478 non-null  int64  \n",
      " 12  time_signature    26478 non-null  int64  \n",
      " 13  genre             26478 non-null  object \n",
      " 14  genre2            26478 non-null  object \n",
      "dtypes: float64(9), int64(4), object(2)\n",
      "memory usage: 3.0+ MB\n"
     ]
    }
   ],
   "source": [
    "train.info()"
   ]
  },
  {
   "cell_type": "code",
   "execution_count": 5,
   "id": "b7f886d4",
   "metadata": {
    "collapsed": true
   },
   "outputs": [
    {
     "data": {
      "text/plain": [
       "danceability        0\n",
       "energy              0\n",
       "key                 0\n",
       "loudness            0\n",
       "mode                0\n",
       "speechiness         0\n",
       "acousticness        0\n",
       "instrumentalness    0\n",
       "liveness            0\n",
       "valence             0\n",
       "tempo               0\n",
       "duration_ms         0\n",
       "time_signature      0\n",
       "genre               0\n",
       "genre2              0\n",
       "dtype: int64"
      ]
     },
     "execution_count": 5,
     "metadata": {},
     "output_type": "execute_result"
    }
   ],
   "source": [
    "train.isnull().sum()"
   ]
  },
  {
   "cell_type": "code",
   "execution_count": 6,
   "id": "0b3f60ee",
   "metadata": {
    "collapsed": true
   },
   "outputs": [
    {
     "data": {
      "text/html": [
       "<div>\n",
       "<style scoped>\n",
       "    .dataframe tbody tr th:only-of-type {\n",
       "        vertical-align: middle;\n",
       "    }\n",
       "\n",
       "    .dataframe tbody tr th {\n",
       "        vertical-align: top;\n",
       "    }\n",
       "\n",
       "    .dataframe thead th {\n",
       "        text-align: right;\n",
       "    }\n",
       "</style>\n",
       "<table border=\"1\" class=\"dataframe\">\n",
       "  <thead>\n",
       "    <tr style=\"text-align: right;\">\n",
       "      <th></th>\n",
       "      <th>danceability</th>\n",
       "      <th>energy</th>\n",
       "      <th>key</th>\n",
       "      <th>loudness</th>\n",
       "      <th>mode</th>\n",
       "      <th>speechiness</th>\n",
       "      <th>acousticness</th>\n",
       "      <th>instrumentalness</th>\n",
       "      <th>liveness</th>\n",
       "      <th>valence</th>\n",
       "      <th>tempo</th>\n",
       "      <th>duration_ms</th>\n",
       "      <th>time_signature</th>\n",
       "    </tr>\n",
       "  </thead>\n",
       "  <tbody>\n",
       "    <tr>\n",
       "      <th>count</th>\n",
       "      <td>26478.000000</td>\n",
       "      <td>26478.000000</td>\n",
       "      <td>26478.000000</td>\n",
       "      <td>26478.000000</td>\n",
       "      <td>26478.000000</td>\n",
       "      <td>26478.000000</td>\n",
       "      <td>26478.000000</td>\n",
       "      <td>26478.000000</td>\n",
       "      <td>26478.000000</td>\n",
       "      <td>26478.00000</td>\n",
       "      <td>26478.000000</td>\n",
       "      <td>2.647800e+04</td>\n",
       "      <td>26478.000000</td>\n",
       "    </tr>\n",
       "    <tr>\n",
       "      <th>mean</th>\n",
       "      <td>0.555572</td>\n",
       "      <td>0.703305</td>\n",
       "      <td>5.382053</td>\n",
       "      <td>-7.883233</td>\n",
       "      <td>0.615605</td>\n",
       "      <td>0.081666</td>\n",
       "      <td>0.198686</td>\n",
       "      <td>0.218167</td>\n",
       "      <td>0.202826</td>\n",
       "      <td>0.47030</td>\n",
       "      <td>124.237289</td>\n",
       "      <td>2.604382e+05</td>\n",
       "      <td>3.931755</td>\n",
       "    </tr>\n",
       "    <tr>\n",
       "      <th>std</th>\n",
       "      <td>0.179849</td>\n",
       "      <td>0.238310</td>\n",
       "      <td>3.565122</td>\n",
       "      <td>4.451586</td>\n",
       "      <td>0.486461</td>\n",
       "      <td>0.076181</td>\n",
       "      <td>0.295734</td>\n",
       "      <td>0.336654</td>\n",
       "      <td>0.171079</td>\n",
       "      <td>0.26071</td>\n",
       "      <td>27.786320</td>\n",
       "      <td>1.324595e+05</td>\n",
       "      <td>0.371069</td>\n",
       "    </tr>\n",
       "    <tr>\n",
       "      <th>min</th>\n",
       "      <td>0.000000</td>\n",
       "      <td>0.000000</td>\n",
       "      <td>0.000000</td>\n",
       "      <td>-60.000000</td>\n",
       "      <td>0.000000</td>\n",
       "      <td>0.000000</td>\n",
       "      <td>0.000000</td>\n",
       "      <td>0.000000</td>\n",
       "      <td>0.000000</td>\n",
       "      <td>0.00000</td>\n",
       "      <td>0.000000</td>\n",
       "      <td>3.052000e+04</td>\n",
       "      <td>0.000000</td>\n",
       "    </tr>\n",
       "    <tr>\n",
       "      <th>25%</th>\n",
       "      <td>0.433000</td>\n",
       "      <td>0.556000</td>\n",
       "      <td>2.000000</td>\n",
       "      <td>-9.748750</td>\n",
       "      <td>0.000000</td>\n",
       "      <td>0.038000</td>\n",
       "      <td>0.002110</td>\n",
       "      <td>0.000003</td>\n",
       "      <td>0.092500</td>\n",
       "      <td>0.25300</td>\n",
       "      <td>104.560000</td>\n",
       "      <td>1.954165e+05</td>\n",
       "      <td>4.000000</td>\n",
       "    </tr>\n",
       "    <tr>\n",
       "      <th>50%</th>\n",
       "      <td>0.563000</td>\n",
       "      <td>0.762000</td>\n",
       "      <td>6.000000</td>\n",
       "      <td>-6.811000</td>\n",
       "      <td>1.000000</td>\n",
       "      <td>0.053450</td>\n",
       "      <td>0.036500</td>\n",
       "      <td>0.002400</td>\n",
       "      <td>0.131000</td>\n",
       "      <td>0.45500</td>\n",
       "      <td>124.997000</td>\n",
       "      <td>2.376365e+05</td>\n",
       "      <td>4.000000</td>\n",
       "    </tr>\n",
       "    <tr>\n",
       "      <th>75%</th>\n",
       "      <td>0.690000</td>\n",
       "      <td>0.900000</td>\n",
       "      <td>9.000000</td>\n",
       "      <td>-4.887250</td>\n",
       "      <td>1.000000</td>\n",
       "      <td>0.090775</td>\n",
       "      <td>0.276000</td>\n",
       "      <td>0.411000</td>\n",
       "      <td>0.276000</td>\n",
       "      <td>0.67900</td>\n",
       "      <td>139.952000</td>\n",
       "      <td>3.019100e+05</td>\n",
       "      <td>4.000000</td>\n",
       "    </tr>\n",
       "    <tr>\n",
       "      <th>max</th>\n",
       "      <td>0.989000</td>\n",
       "      <td>1.000000</td>\n",
       "      <td>11.000000</td>\n",
       "      <td>1.342000</td>\n",
       "      <td>1.000000</td>\n",
       "      <td>0.960000</td>\n",
       "      <td>0.996000</td>\n",
       "      <td>0.997000</td>\n",
       "      <td>0.994000</td>\n",
       "      <td>0.99100</td>\n",
       "      <td>247.936000</td>\n",
       "      <td>4.753467e+06</td>\n",
       "      <td>5.000000</td>\n",
       "    </tr>\n",
       "  </tbody>\n",
       "</table>\n",
       "</div>"
      ],
      "text/plain": [
       "       danceability        energy           key      loudness          mode  \\\n",
       "count  26478.000000  26478.000000  26478.000000  26478.000000  26478.000000   \n",
       "mean       0.555572      0.703305      5.382053     -7.883233      0.615605   \n",
       "std        0.179849      0.238310      3.565122      4.451586      0.486461   \n",
       "min        0.000000      0.000000      0.000000    -60.000000      0.000000   \n",
       "25%        0.433000      0.556000      2.000000     -9.748750      0.000000   \n",
       "50%        0.563000      0.762000      6.000000     -6.811000      1.000000   \n",
       "75%        0.690000      0.900000      9.000000     -4.887250      1.000000   \n",
       "max        0.989000      1.000000     11.000000      1.342000      1.000000   \n",
       "\n",
       "        speechiness  acousticness  instrumentalness      liveness  \\\n",
       "count  26478.000000  26478.000000      26478.000000  26478.000000   \n",
       "mean       0.081666      0.198686          0.218167      0.202826   \n",
       "std        0.076181      0.295734          0.336654      0.171079   \n",
       "min        0.000000      0.000000          0.000000      0.000000   \n",
       "25%        0.038000      0.002110          0.000003      0.092500   \n",
       "50%        0.053450      0.036500          0.002400      0.131000   \n",
       "75%        0.090775      0.276000          0.411000      0.276000   \n",
       "max        0.960000      0.996000          0.997000      0.994000   \n",
       "\n",
       "           valence         tempo   duration_ms  time_signature  \n",
       "count  26478.00000  26478.000000  2.647800e+04    26478.000000  \n",
       "mean       0.47030    124.237289  2.604382e+05        3.931755  \n",
       "std        0.26071     27.786320  1.324595e+05        0.371069  \n",
       "min        0.00000      0.000000  3.052000e+04        0.000000  \n",
       "25%        0.25300    104.560000  1.954165e+05        4.000000  \n",
       "50%        0.45500    124.997000  2.376365e+05        4.000000  \n",
       "75%        0.67900    139.952000  3.019100e+05        4.000000  \n",
       "max        0.99100    247.936000  4.753467e+06        5.000000  "
      ]
     },
     "execution_count": 6,
     "metadata": {},
     "output_type": "execute_result"
    }
   ],
   "source": [
    "train.describe()"
   ]
  },
  {
   "cell_type": "markdown",
   "id": "acec6490",
   "metadata": {},
   "source": [
    "## Feature 시각화"
   ]
  },
  {
   "cell_type": "code",
   "execution_count": 7,
   "id": "ac4a55fa",
   "metadata": {
    "scrolled": true
   },
   "outputs": [
    {
     "data": {
      "image/png": "[encoded data removed]",
      "text/plain": [
       "<Figure size 1152x576 with 2 Axes>"
      ]
     },
     "metadata": {
      "needs_background": "light"
     },
     "output_type": "display_data"
    }
   ],
   "source": [
    "h = 24\n",
    "s = 0.99\n",
    "v = 1 \n",
    "colors = [\n",
    "    mcl.hsv_to_rgb((h/360,0,v)),\n",
    "    mcl.hsv_to_rgb((h/360,0.5,v)),\n",
    "    mcl.hsv_to_rgb((h/360,1,v)) ]\n",
    "\n",
    "cmap = LinearSegmentedColormap.from_list('my_cmap',colors,gamma=3)\n",
    "\n",
    "pearson = train.corr(method = 'pearson')\n",
    "\n",
    "plt.figure(figsize = (16,8))\n",
    "sns.set(style = \"whitegrid\")\n",
    "sns.heatmap(pearson, annot = True, cmap=cmap, vmin=-1, vmax=1)\n",
    "plt.show();"
   ]
  },
  {
   "cell_type": "markdown",
   "id": "e508823c",
   "metadata": {},
   "source": [
    "## 이상치 제거 (미사용 코드)"
   ]
  },
  {
   "cell_type": "code",
   "execution_count": 8,
   "id": "abfbf142",
   "metadata": {},
   "outputs": [],
   "source": [
    "# def get_outlier(train=None,column=None,weight=1.5):\n",
    "        \n",
    "#     column_x = train[column]\n",
    "#     # 1/4 분위와 3/4 분위 지점을 np.percentile로 구함\n",
    "#     quantile_25 = np.percentile(column_x.values,25)\n",
    "#     quantile_75 = np.percentile(column_x.values,75)\n",
    "    \n",
    "#     # IQR을 구하고 IQR에 1.5를 곱해 최댓값과 최솟값 지점 구함.\n",
    "#     iqr = quantile_75 - quantile_25\n",
    "#     iqr_weight = iqr * weight\n",
    "#     lowest_val = quantile_25 - iqr_weight\n",
    "#     highest_val = quantile_75 + iqr_weight\n",
    "    \n",
    "#     # 최댓값보다 크거나, 최솟값보다 작은 값을 이상치 데이터로 설정하고 Dataframe index 반환\n",
    "#     outlier_index = column_x[(column_x < lowest_val) | (column_x > highest_val)].index\n",
    "#     return outlier_index"
   ]
  },
  {
   "cell_type": "markdown",
   "id": "426d63cf",
   "metadata": {},
   "source": [
    "## 컬럼 삭제 및 라벨 인코딩"
   ]
  },
  {
   "cell_type": "code",
   "execution_count": 9,
   "id": "67976a49",
   "metadata": {
    "scrolled": true
   },
   "outputs": [
    {
     "data": {
      "text/plain": [
       "Index(['danceability', 'energy', 'key', 'loudness', 'mode', 'speechiness',\n",
       "       'acousticness', 'instrumentalness', 'liveness', 'valence', 'tempo',\n",
       "       'duration_ms', 'time_signature', 'genre', 'genre2'],\n",
       "      dtype='object')"
      ]
     },
     "execution_count": 9,
     "metadata": {},
     "output_type": "execute_result"
    }
   ],
   "source": [
    "train.columns"
   ]
  },
  {
   "cell_type": "code",
   "execution_count": 10,
   "id": "3af65a4c",
   "metadata": {},
   "outputs": [],
   "source": [
    "def drop_features(df):\n",
    "    df.drop(['energy','acousticness','genre'],axis=1, inplace=True)\n",
    "    return df"
   ]
  },
  {
   "cell_type": "code",
   "execution_count": 11,
   "id": "c5311705",
   "metadata": {},
   "outputs": [],
   "source": [
    "def encode_feature(df):\n",
    "    features = ['genre2']\n",
    "  \n",
    "    for f in features:\n",
    "        global le\n",
    "        le = LabelEncoder()\n",
    "        le.fit(df.loc[:,f])\n",
    "        df.loc[:,f] = le.transform(df.loc[:,f])\n",
    "\n",
    "    return df"
   ]
  },
  {
   "cell_type": "code",
   "execution_count": 12,
   "id": "fd4ef059",
   "metadata": {},
   "outputs": [],
   "source": [
    "def project_preprocess(df):\n",
    "    df = pd.read_csv('train.csv')\n",
    "    df = drop_features(df)\n",
    "    df = encode_feature(df)\n",
    "    return df"
   ]
  },
  {
   "cell_type": "code",
   "execution_count": 13,
   "id": "340d56d0",
   "metadata": {},
   "outputs": [
    {
     "name": "stdout",
     "output_type": "stream",
     "text": [
      "<class 'pandas.core.frame.DataFrame'>\n",
      "RangeIndex: 26478 entries, 0 to 26477\n",
      "Data columns (total 12 columns):\n",
      " #   Column            Non-Null Count  Dtype  \n",
      "---  ------            --------------  -----  \n",
      " 0   danceability      26478 non-null  float64\n",
      " 1   key               26478 non-null  int64  \n",
      " 2   loudness          26478 non-null  float64\n",
      " 3   mode              26478 non-null  int64  \n",
      " 4   speechiness       26478 non-null  float64\n",
      " 5   instrumentalness  26478 non-null  float64\n",
      " 6   liveness          26478 non-null  float64\n",
      " 7   valence           26478 non-null  float64\n",
      " 8   tempo             26478 non-null  float64\n",
      " 9   duration_ms       26478 non-null  int64  \n",
      " 10  time_signature    26478 non-null  int64  \n",
      " 11  genre2            26478 non-null  int32  \n",
      "dtypes: float64(7), int32(1), int64(4)\n",
      "memory usage: 2.3 MB\n"
     ]
    }
   ],
   "source": [
    "train_label = project_preprocess(train)\n",
    "train_label.info()"
   ]
  },
  {
   "cell_type": "code",
   "execution_count": 14,
   "id": "630d1ea8",
   "metadata": {},
   "outputs": [
    {
     "data": {
      "text/plain": [
       "(26478, 12)"
      ]
     },
     "execution_count": 14,
     "metadata": {},
     "output_type": "execute_result"
    }
   ],
   "source": [
    "train_label.shape"
   ]
  },
  {
   "cell_type": "code",
   "execution_count": 15,
   "id": "9955c2eb",
   "metadata": {
    "collapsed": true
   },
   "outputs": [
    {
     "data": {
      "text/plain": [
       "10    4725\n",
       "22    4162\n",
       "17    2001\n",
       "27    1863\n",
       "23    1378\n",
       "1      929\n",
       "0      920\n",
       "15     906\n",
       "21     887\n",
       "7      841\n",
       "24     836\n",
       "12     517\n",
       "9      469\n",
       "13     468\n",
       "3      462\n",
       "11     462\n",
       "2      459\n",
       "6      457\n",
       "25     457\n",
       "8      456\n",
       "26     455\n",
       "19     454\n",
       "18     452\n",
       "20     451\n",
       "16     406\n",
       "4      405\n",
       "5      100\n",
       "14     100\n",
       "Name: genre2, dtype: int64"
      ]
     },
     "execution_count": 15,
     "metadata": {},
     "output_type": "execute_result"
    }
   ],
   "source": [
    "train_label['genre2'].value_counts()"
   ]
  },
  {
   "cell_type": "code",
   "execution_count": 16,
   "id": "5f46966e",
   "metadata": {},
   "outputs": [
    {
     "data": {
      "text/html": [
       "<div>\n",
       "<style scoped>\n",
       "    .dataframe tbody tr th:only-of-type {\n",
       "        vertical-align: middle;\n",
       "    }\n",
       "\n",
       "    .dataframe tbody tr th {\n",
       "        vertical-align: top;\n",
       "    }\n",
       "\n",
       "    .dataframe thead th {\n",
       "        text-align: right;\n",
       "    }\n",
       "</style>\n",
       "<table border=\"1\" class=\"dataframe\">\n",
       "  <thead>\n",
       "    <tr style=\"text-align: right;\">\n",
       "      <th></th>\n",
       "      <th>genre2_name</th>\n",
       "      <th>genre2_count</th>\n",
       "    </tr>\n",
       "  </thead>\n",
       "  <tbody>\n",
       "    <tr>\n",
       "      <th>0</th>\n",
       "      <td>acoustic</td>\n",
       "      <td>920</td>\n",
       "    </tr>\n",
       "    <tr>\n",
       "      <th>1</th>\n",
       "      <td>alternative</td>\n",
       "      <td>929</td>\n",
       "    </tr>\n",
       "    <tr>\n",
       "      <th>2</th>\n",
       "      <td>blues</td>\n",
       "      <td>459</td>\n",
       "    </tr>\n",
       "    <tr>\n",
       "      <th>3</th>\n",
       "      <td>chill</td>\n",
       "      <td>462</td>\n",
       "    </tr>\n",
       "    <tr>\n",
       "      <th>4</th>\n",
       "      <td>classical</td>\n",
       "      <td>405</td>\n",
       "    </tr>\n",
       "    <tr>\n",
       "      <th>5</th>\n",
       "      <td>club</td>\n",
       "      <td>100</td>\n",
       "    </tr>\n",
       "    <tr>\n",
       "      <th>6</th>\n",
       "      <td>country</td>\n",
       "      <td>457</td>\n",
       "    </tr>\n",
       "    <tr>\n",
       "      <th>7</th>\n",
       "      <td>dance</td>\n",
       "      <td>841</td>\n",
       "    </tr>\n",
       "    <tr>\n",
       "      <th>8</th>\n",
       "      <td>disco</td>\n",
       "      <td>456</td>\n",
       "    </tr>\n",
       "    <tr>\n",
       "      <th>9</th>\n",
       "      <td>drum-and-bass</td>\n",
       "      <td>469</td>\n",
       "    </tr>\n",
       "    <tr>\n",
       "      <th>10</th>\n",
       "      <td>electronic</td>\n",
       "      <td>4725</td>\n",
       "    </tr>\n",
       "    <tr>\n",
       "      <th>11</th>\n",
       "      <td>folk</td>\n",
       "      <td>462</td>\n",
       "    </tr>\n",
       "    <tr>\n",
       "      <th>12</th>\n",
       "      <td>funk</td>\n",
       "      <td>517</td>\n",
       "    </tr>\n",
       "    <tr>\n",
       "      <th>13</th>\n",
       "      <td>gospel</td>\n",
       "      <td>468</td>\n",
       "    </tr>\n",
       "    <tr>\n",
       "      <th>14</th>\n",
       "      <td>groove</td>\n",
       "      <td>100</td>\n",
       "    </tr>\n",
       "    <tr>\n",
       "      <th>15</th>\n",
       "      <td>hip-hop</td>\n",
       "      <td>906</td>\n",
       "    </tr>\n",
       "    <tr>\n",
       "      <th>16</th>\n",
       "      <td>jazz</td>\n",
       "      <td>406</td>\n",
       "    </tr>\n",
       "    <tr>\n",
       "      <th>17</th>\n",
       "      <td>metal</td>\n",
       "      <td>2001</td>\n",
       "    </tr>\n",
       "    <tr>\n",
       "      <th>18</th>\n",
       "      <td>opera</td>\n",
       "      <td>452</td>\n",
       "    </tr>\n",
       "    <tr>\n",
       "      <th>19</th>\n",
       "      <td>punk</td>\n",
       "      <td>454</td>\n",
       "    </tr>\n",
       "    <tr>\n",
       "      <th>20</th>\n",
       "      <td>r-n-b</td>\n",
       "      <td>451</td>\n",
       "    </tr>\n",
       "    <tr>\n",
       "      <th>21</th>\n",
       "      <td>reggae</td>\n",
       "      <td>887</td>\n",
       "    </tr>\n",
       "    <tr>\n",
       "      <th>22</th>\n",
       "      <td>rock</td>\n",
       "      <td>4162</td>\n",
       "    </tr>\n",
       "    <tr>\n",
       "      <th>23</th>\n",
       "      <td>rock-n-roll</td>\n",
       "      <td>1378</td>\n",
       "    </tr>\n",
       "    <tr>\n",
       "      <th>24</th>\n",
       "      <td>singer-songwriter</td>\n",
       "      <td>836</td>\n",
       "    </tr>\n",
       "    <tr>\n",
       "      <th>25</th>\n",
       "      <td>soul</td>\n",
       "      <td>457</td>\n",
       "    </tr>\n",
       "    <tr>\n",
       "      <th>26</th>\n",
       "      <td>tango</td>\n",
       "      <td>455</td>\n",
       "    </tr>\n",
       "    <tr>\n",
       "      <th>27</th>\n",
       "      <td>techno</td>\n",
       "      <td>1863</td>\n",
       "    </tr>\n",
       "  </tbody>\n",
       "</table>\n",
       "</div>"
      ],
      "text/plain": [
       "          genre2_name  genre2_count\n",
       "0            acoustic           920\n",
       "1         alternative           929\n",
       "2               blues           459\n",
       "3               chill           462\n",
       "4           classical           405\n",
       "5                club           100\n",
       "6             country           457\n",
       "7               dance           841\n",
       "8               disco           456\n",
       "9       drum-and-bass           469\n",
       "10         electronic          4725\n",
       "11               folk           462\n",
       "12               funk           517\n",
       "13             gospel           468\n",
       "14             groove           100\n",
       "15            hip-hop           906\n",
       "16               jazz           406\n",
       "17              metal          2001\n",
       "18              opera           452\n",
       "19               punk           454\n",
       "20              r-n-b           451\n",
       "21             reggae           887\n",
       "22               rock          4162\n",
       "23        rock-n-roll          1378\n",
       "24  singer-songwriter           836\n",
       "25               soul           457\n",
       "26              tango           455\n",
       "27             techno          1863"
      ]
     },
     "execution_count": 16,
     "metadata": {},
     "output_type": "execute_result"
    }
   ],
   "source": [
    "temp = pd.DataFrame(train_label[\"genre2\"].value_counts().sort_index())\n",
    "temp[\"genre2_name\"] = le.classes_\n",
    "temp = temp.loc[:, [\"genre2_name\",\"genre2\"]]\n",
    "temp.rename(columns={\"genre2\": \"genre2_count\"}, inplace=True)\n",
    "temp"
   ]
  },
  {
   "cell_type": "markdown",
   "id": "a0c76d51",
   "metadata": {},
   "source": [
    "# 모델링"
   ]
  },
  {
   "cell_type": "markdown",
   "id": "c36b114c",
   "metadata": {},
   "source": [
    "## 데이터 분리"
   ]
  },
  {
   "cell_type": "code",
   "execution_count": 17,
   "id": "faf0e4d7",
   "metadata": {},
   "outputs": [],
   "source": [
    "y = train_label.loc[:,'genre2']\n",
    "x = train_label.drop('genre2',axis = 1)"
   ]
  },
  {
   "cell_type": "code",
   "execution_count": 18,
   "id": "9496f0d2",
   "metadata": {},
   "outputs": [
    {
     "name": "stdout",
     "output_type": "stream",
     "text": [
      "(26478, 11)\n",
      "(26478,)\n"
     ]
    }
   ],
   "source": [
    "print(x.shape)\n",
    "print(y.shape)"
   ]
  },
  {
   "cell_type": "code",
   "execution_count": 19,
   "id": "d263d244",
   "metadata": {},
   "outputs": [],
   "source": [
    "x_train, x_val, y_train, y_val = train_test_split(x, y, test_size=0.2, random_state=1234, stratify=y)"
   ]
  },
  {
   "cell_type": "code",
   "execution_count": 20,
   "id": "c1ba1106",
   "metadata": {
    "scrolled": true
   },
   "outputs": [
    {
     "name": "stdout",
     "output_type": "stream",
     "text": [
      "(21182, 11) (21182,)\n",
      "(5296, 11) (5296,)\n"
     ]
    }
   ],
   "source": [
    "print(x_train.shape, y_train.shape)\n",
    "print(x_val.shape,y_val.shape)"
   ]
  },
  {
   "cell_type": "markdown",
   "id": "d252085c",
   "metadata": {},
   "source": [
    "## kfold, str_kfold, rkfold 설정"
   ]
  },
  {
   "cell_type": "code",
   "execution_count": 21,
   "id": "4e4b0524",
   "metadata": {},
   "outputs": [],
   "source": [
    "kfold = KFold(n_splits=7, random_state=1234, shuffle=True )"
   ]
  },
  {
   "cell_type": "code",
   "execution_count": 22,
   "id": "9d1c3d04",
   "metadata": {},
   "outputs": [],
   "source": [
    "str_kfold = StratifiedKFold(n_splits=7, random_state=1234, shuffle=True)"
   ]
  },
  {
   "cell_type": "code",
   "execution_count": 23,
   "id": "c81d1351",
   "metadata": {},
   "outputs": [],
   "source": [
    "rkfold = RepeatedKFold(n_splits=7, random_state=1234,  n_repeats=5)"
   ]
  },
  {
   "cell_type": "markdown",
   "id": "a421078b",
   "metadata": {},
   "source": [
    "## 샘플링에 따른 비교"
   ]
  },
  {
   "cell_type": "code",
   "execution_count": 24,
   "id": "ad38e277",
   "metadata": {},
   "outputs": [],
   "source": [
    "def psampling(x):\n",
    "    from imblearn.over_sampling import RandomOverSampler\n",
    "    from imblearn.under_sampling import RandomUnderSampler\n",
    "    \n",
    "    label = train_label['genre2']\n",
    "    ros = RandomOverSampler()\n",
    "    rus = RandomUnderSampler()\n",
    "    \n",
    "    oversampled_train,oversampled_label = ros.fit_resample(x,label)\n",
    "    undersampled_train,undersampled_label = rus.fit_resample(x,label)\n",
    "    \n",
    "    oversampled_train = pd.DataFrame(oversampled_train,columns = train_label.columns)\n",
    "    undersampled_train = pd.DataFrame(undersampled_train,columns = train_label.columns)\n",
    "    \n",
    "    print('train =>',undersampled_label)\n",
    "    print('원본 데이터의 클래스 비율\\n{}'.format(pd.get_dummies(label)))\n",
    "    print('원본 데이터의 클래스 비율\\n{}'.format(pd.get_dummies(label).sum()))\n",
    "    print('\\noversampled_data\\n{}'.format(pd.get_dummies(oversampled_label).sum()))\n",
    "    print('\\nundersampled_data\\n{}'.format(pd.get_dummies(undersampled_label).sum()))"
   ]
  },
  {
   "cell_type": "code",
   "execution_count": 25,
   "id": "7f5769bf",
   "metadata": {
    "scrolled": false
   },
   "outputs": [
    {
     "name": "stdout",
     "output_type": "stream",
     "text": [
      "train => 0        0\n",
      "1        0\n",
      "2        0\n",
      "3        0\n",
      "4        0\n",
      "        ..\n",
      "2795    27\n",
      "2796    27\n",
      "2797    27\n",
      "2798    27\n",
      "2799    27\n",
      "Name: genre2, Length: 2800, dtype: int32\n",
      "원본 데이터의 클래스 비율\n",
      "       0   1   2   3   4   5   6   7   8   9   ...  18  19  20  21  22  23  \\\n",
      "0       1   0   0   0   0   0   0   0   0   0  ...   0   0   0   0   0   0   \n",
      "1       1   0   0   0   0   0   0   0   0   0  ...   0   0   0   0   0   0   \n",
      "2       1   0   0   0   0   0   0   0   0   0  ...   0   0   0   0   0   0   \n",
      "3       1   0   0   0   0   0   0   0   0   0  ...   0   0   0   0   0   0   \n",
      "4       1   0   0   0   0   0   0   0   0   0  ...   0   0   0   0   0   0   \n",
      "...    ..  ..  ..  ..  ..  ..  ..  ..  ..  ..  ...  ..  ..  ..  ..  ..  ..   \n",
      "26473   0   0   0   0   0   0   0   0   0   0  ...   0   0   0   0   0   0   \n",
      "26474   0   0   0   0   0   0   0   0   0   0  ...   0   0   0   0   0   0   \n",
      "26475   0   0   0   0   0   0   0   0   0   0  ...   0   0   0   0   0   0   \n",
      "26476   0   0   0   0   0   0   0   0   0   0  ...   0   0   0   0   0   0   \n",
      "26477   0   0   0   0   0   0   0   0   0   0  ...   0   0   0   0   0   0   \n",
      "\n",
      "       24  25  26  27  \n",
      "0       0   0   0   0  \n",
      "1       0   0   0   0  \n",
      "2       0   0   0   0  \n",
      "3       0   0   0   0  \n",
      "4       0   0   0   0  \n",
      "...    ..  ..  ..  ..  \n",
      "26473   0   0   0   0  \n",
      "26474   0   0   0   0  \n",
      "26475   0   0   0   0  \n",
      "26476   0   0   0   0  \n",
      "26477   0   0   0   0  \n",
      "\n",
      "[26478 rows x 28 columns]\n",
      "원본 데이터의 클래스 비율\n",
      "0      920\n",
      "1      929\n",
      "2      459\n",
      "3      462\n",
      "4      405\n",
      "5      100\n",
      "6      457\n",
      "7      841\n",
      "8      456\n",
      "9      469\n",
      "10    4725\n",
      "11     462\n",
      "12     517\n",
      "13     468\n",
      "14     100\n",
      "15     906\n",
      "16     406\n",
      "17    2001\n",
      "18     452\n",
      "19     454\n",
      "20     451\n",
      "21     887\n",
      "22    4162\n",
      "23    1378\n",
      "24     836\n",
      "25     457\n",
      "26     455\n",
      "27    1863\n",
      "dtype: int64\n",
      "\n",
      "oversampled_data\n",
      "0     4725\n",
      "1     4725\n",
      "2     4725\n",
      "3     4725\n",
      "4     4725\n",
      "5     4725\n",
      "6     4725\n",
      "7     4725\n",
      "8     4725\n",
      "9     4725\n",
      "10    4725\n",
      "11    4725\n",
      "12    4725\n",
      "13    4725\n",
      "14    4725\n",
      "15    4725\n",
      "16    4725\n",
      "17    4725\n",
      "18    4725\n",
      "19    4725\n",
      "20    4725\n",
      "21    4725\n",
      "22    4725\n",
      "23    4725\n",
      "24    4725\n",
      "25    4725\n",
      "26    4725\n",
      "27    4725\n",
      "dtype: int64\n",
      "\n",
      "undersampled_data\n",
      "0     100\n",
      "1     100\n",
      "2     100\n",
      "3     100\n",
      "4     100\n",
      "5     100\n",
      "6     100\n",
      "7     100\n",
      "8     100\n",
      "9     100\n",
      "10    100\n",
      "11    100\n",
      "12    100\n",
      "13    100\n",
      "14    100\n",
      "15    100\n",
      "16    100\n",
      "17    100\n",
      "18    100\n",
      "19    100\n",
      "20    100\n",
      "21    100\n",
      "22    100\n",
      "23    100\n",
      "24    100\n",
      "25    100\n",
      "26    100\n",
      "27    100\n",
      "dtype: int64\n"
     ]
    }
   ],
   "source": [
    "psampling(x)"
   ]
  },
  {
   "cell_type": "code",
   "execution_count": 26,
   "id": "2f93797b",
   "metadata": {},
   "outputs": [
    {
     "name": "stdout",
     "output_type": "stream",
     "text": [
      "SMOTE 적용 전 학습용 피처/레이블 데이터 세트:  (21182, 11) (21182,)\n",
      "SMOTE 적용 후 학습용 피처/레이블 데이터 세트:  (105840, 11) (105840,)\n",
      "SMOTE 적용 후 레이블 값 분포: \n",
      " 0     3780\n",
      "1     3780\n",
      "26    3780\n",
      "25    3780\n",
      "24    3780\n",
      "23    3780\n",
      "22    3780\n",
      "21    3780\n",
      "20    3780\n",
      "19    3780\n",
      "18    3780\n",
      "17    3780\n",
      "16    3780\n",
      "15    3780\n",
      "14    3780\n",
      "13    3780\n",
      "12    3780\n",
      "11    3780\n",
      "10    3780\n",
      "9     3780\n",
      "8     3780\n",
      "7     3780\n",
      "6     3780\n",
      "5     3780\n",
      "4     3780\n",
      "3     3780\n",
      "2     3780\n",
      "27    3780\n",
      "Name: genre2, dtype: int64\n"
     ]
    }
   ],
   "source": [
    "# over sampling\n",
    "smote = SMOTE(random_state=0)\n",
    "\n",
    "x_train_over,y_train_over = smote.fit_resample(x_train,y_train)\n",
    "print('SMOTE 적용 전 학습용 피처/레이블 데이터 세트: ', x_train.shape, y_train.shape)\n",
    "print('SMOTE 적용 후 학습용 피처/레이블 데이터 세트: ', x_train_over.shape, y_train_over.shape)\n",
    "print('SMOTE 적용 후 레이블 값 분포: \\n', pd.Series(y_train_over).value_counts())"
   ]
  },
  {
   "cell_type": "markdown",
   "id": "b331e6d5",
   "metadata": {},
   "source": [
    "## 모델"
   ]
  },
  {
   "cell_type": "markdown",
   "id": "fb9c6181",
   "metadata": {},
   "source": [
    "### 파일로 저장\n",
    "- 1-1. lgbm_kf_rgs_best.pkl\n",
    "- 1-2. lgbm_strk_rgs_best.pkl\n",
    "- 1-3. rf_kf_rgs_best.pkl\n",
    "\n",
    "- 2-1. lgbm_smote1_best.pkl\n",
    "\n",
    "- 3-2. lgbm_enn1_best.pkl\n",
    "- 3-3. lgbm_tl1_best.pkl\n",
    "- 3-4. lgbm_smen1_best.pkl\n",
    "- 3-5. lgbm_smtl1_best.pkl\n",
    "\n",
    "- 4-1. lgbm_smote2_best.pkl\n",
    "- 4-2. lgbm_smtl2_best.pkl\n",
    "- 4-3.\n",
    "- 4-4.\n",
    "- 4-5. lgbm_smen2_best.pkl\n",
    "\n",
    "- 5-1."
   ]
  },
  {
   "cell_type": "markdown",
   "id": "d5f11f89",
   "metadata": {},
   "source": [
    "### 파라미터 조정 X\n",
    "#### SVM"
   ]
  },
  {
   "cell_type": "code",
   "execution_count": 27,
   "id": "7e4bc1ea",
   "metadata": {},
   "outputs": [],
   "source": [
    "# model = SVC()\n",
    "# model.fit(x_train, y_train)\n",
    "\n",
    "# print('학습 데이터 점수: {}'.format(model.score(x_train, y_train)))\n",
    "# print('평가 데이터 점수: {}'.format(model.score(x_val, y_val)))"
   ]
  },
  {
   "cell_type": "code",
   "execution_count": 28,
   "id": "3154c9d9",
   "metadata": {},
   "outputs": [],
   "source": [
    "# cross_val = cross_validate(\n",
    "#     estimator=model,\n",
    "#     X=x_train, y=y_train,\n",
    "#     cv=5)\n",
    "\n",
    "# print('avg test score: {} (+/- {})'.format(cross_val['test_score'].mean(), cross_val['test_score'].std()))"
   ]
  },
  {
   "cell_type": "markdown",
   "id": "b205085b",
   "metadata": {},
   "source": [
    "#### KNN"
   ]
  },
  {
   "cell_type": "code",
   "execution_count": 29,
   "id": "534e5726",
   "metadata": {},
   "outputs": [],
   "source": [
    "# model = KNeighborsClassifier()\n",
    "# model.fit(x_train, y_train)\n",
    "\n",
    "# print('학습 데이터 점수: {}'.format(model.score(x_train, y_train)))\n",
    "# print('평가 데이터 점수: {}'.format(model.score(x_val, y_val)))"
   ]
  },
  {
   "cell_type": "code",
   "execution_count": 30,
   "id": "0a921775",
   "metadata": {},
   "outputs": [],
   "source": [
    "# cross_val = cross_validate(\n",
    "#     estimator=model,\n",
    "#     X=x_train, y=y_train,\n",
    "#     cv=5)\n",
    "\n",
    "# print('avg test score: {} (+/- {})'.format(cross_val['test_score'].mean(), cross_val['test_score'].std()))"
   ]
  },
  {
   "cell_type": "markdown",
   "id": "c0dd8c48",
   "metadata": {},
   "source": [
    "#### DT"
   ]
  },
  {
   "cell_type": "code",
   "execution_count": 31,
   "id": "93c41a51",
   "metadata": {},
   "outputs": [],
   "source": [
    "# model = DecisionTreeClassifier()\n",
    "# model.fit(x_train, y_train)\n",
    "\n",
    "# print('학습 데이터 점수: {}'.format(model.score(x_train, y_train)))\n",
    "# print('평가 데이터 점수: {}'.format(model.score(x_val, y_val)))"
   ]
  },
  {
   "cell_type": "code",
   "execution_count": 32,
   "id": "ee355f6c",
   "metadata": {},
   "outputs": [],
   "source": [
    "# cross_val = cross_validate(\n",
    "#     estimator=model,\n",
    "#     X=x_train, y=y_train,\n",
    "#     cv=5)\n",
    "\n",
    "# print('avg test score: {} (+/- {})'.format(cross_val['test_score'].mean(), cross_val['test_score'].std()))"
   ]
  },
  {
   "cell_type": "markdown",
   "id": "f0fda391",
   "metadata": {},
   "source": [
    "#### XGBC"
   ]
  },
  {
   "cell_type": "code",
   "execution_count": 33,
   "id": "0e516c29",
   "metadata": {},
   "outputs": [],
   "source": [
    "# model = XGBClassifier()\n",
    "# model.fit(x_train, y_train)\n",
    "\n",
    "# print('학습 데이터 점수: {}'.format(model.score(x_train, y_train)))\n",
    "# print('평가 데이터 점수: {}'.format(model.score(x_val, y_val)))"
   ]
  },
  {
   "cell_type": "code",
   "execution_count": 34,
   "id": "989d8384",
   "metadata": {},
   "outputs": [],
   "source": [
    "# cross_val = cross_validate(\n",
    "#     estimator=model,\n",
    "#     X=x_train, y=y_train,\n",
    "#     cv=5)\n",
    "\n",
    "# print('avg test score: {} (+/- {})'.format(cross_val['test_score'].mean(), cross_val['test_score'].std()))"
   ]
  },
  {
   "cell_type": "markdown",
   "id": "cff86cdd",
   "metadata": {},
   "source": [
    "#### LGBM"
   ]
  },
  {
   "cell_type": "code",
   "execution_count": 35,
   "id": "ea5ff9b4",
   "metadata": {},
   "outputs": [
    {
     "name": "stdout",
     "output_type": "stream",
     "text": [
      "학습 데이터 점수: 0.8539325842696629\n",
      "평가 데이터 점수: 0.42371601208459214\n"
     ]
    }
   ],
   "source": [
    "model = LGBMClassifier()\n",
    "model.fit(x_train, y_train)\n",
    "\n",
    "print('학습 데이터 점수: {}'.format(model.score(x_train, y_train)))\n",
    "print('평가 데이터 점수: {}'.format(model.score(x_val, y_val)))"
   ]
  },
  {
   "cell_type": "code",
   "execution_count": 36,
   "id": "e9c7d9a9",
   "metadata": {},
   "outputs": [
    {
     "name": "stdout",
     "output_type": "stream",
     "text": [
      "avg test score: 0.4266365729489058 (+/- 0.008068547524647945)\n"
     ]
    }
   ],
   "source": [
    "cross_val = cross_validate(\n",
    "    estimator=model,\n",
    "    X=x_train, y=y_train,\n",
    "    cv=5)\n",
    "\n",
    "print('avg test score: {} (+/- {})'.format(cross_val['test_score'].mean(), cross_val['test_score'].std()))"
   ]
  },
  {
   "cell_type": "code",
   "execution_count": null,
   "id": "e99c3f52",
   "metadata": {},
   "outputs": [],
   "source": []
  },
  {
   "cell_type": "markdown",
   "id": "b768bcde",
   "metadata": {},
   "source": [
    "### 파일로 저장\n",
    "- 1-1. lgbm_kf_rgs_best.pkl\n",
    "- 1-2. lgbm_strk_rgs_best.pkl\n",
    "- 1-3. rf_kf_rgs_best.pkl\n",
    "\n",
    "- 2-1. lgbm_smote1_best.pkl\n",
    "\n",
    "- 3-2. lgbm_enn1_best.pkl\n",
    "- 3-3. lgbm_tl1_best.pkl\n",
    "- 3-4. lgbm_smen1_best.pkl\n",
    "- 3-5. lgbm_smtl1_best.pkl\n",
    "\n",
    "- 4-1. lgbm_smote2_best.pkl\n",
    "- 4-2. lgbm_smtl2_best.pkl\n",
    "- 4-3.\n",
    "- 4-4.\n",
    "- 4-5. lgbm_smen2_best.pkl\n",
    "\n",
    "- 5-1."
   ]
  },
  {
   "cell_type": "markdown",
   "id": "f8bc39d7",
   "metadata": {},
   "source": [
    "# 평가"
   ]
  },
  {
   "cell_type": "markdown",
   "id": "58b48c4f",
   "metadata": {},
   "source": [
    "## 오차 행렬(Confusion Matrix)"
   ]
  },
  {
   "cell_type": "code",
   "execution_count": 37,
   "id": "84c9375d",
   "metadata": {},
   "outputs": [
    {
     "name": "stdout",
     "output_type": "stream",
     "text": [
      "[[ 12   8   6   8   1   0   5   1   1   1  15   7   1   4   0   0   0   7\n",
      "    0   1   2   1  57  18  27   0   1   0]\n",
      " [  6  10   0  13   0   0   0   0   3   0  19   2   3   2   0   0   0   8\n",
      "    0   1   0   1 100   6   8   2   1   1]\n",
      " [  8   1  15   1   0   0   0   0   2   0   4   0   3   1   0   0   1   0\n",
      "    0   0   0   0  26  14   4   7   4   1]\n",
      " [ 17   7   1   0   1   0   0   1   2   0  11   2   1   0   0   6   0   0\n",
      "    0   0   4   3  18   4  10   3   0   1]\n",
      " [  0   0   0   0  52   0   0   0   0   0  11   0   0   0   0   0   4   1\n",
      "   10   0   0   0   2   0   1   0   0   0]\n",
      " [  0   0   0   0   0   0   0   1   0   0  15   0   0   0   0   0   0   0\n",
      "    0   0   0   1   2   0   0   0   0   1]\n",
      " [  1   0   0   0   0   0  15   0   1   0   0   0   0   0   0   2   0   0\n",
      "    0   0   1   0  57   5   8   1   0   0]\n",
      " [  1   0   0   0   0   1   0  43   0   0  59   0   3   0   0  11   0   1\n",
      "    0   1   0  24  17   3   0   1   0   3]\n",
      " [  0   0   0   3   0   0   1   2   0   0  40   0   9   0   3   2   0   0\n",
      "    0   0   3  10   7   2   2   5   0   2]\n",
      " [  0   2   0   0   0   0   0   0   0  60  20   0   0   0   0   2   0   2\n",
      "    0   0   1   1   6   0   0   0   0   0]\n",
      " [  2   4   1   5   7   5   1  13  16  10 689   1  12   1   0  17   4  18\n",
      "    1   0   1   3  55   0   3   1   4  71]\n",
      " [  5   1   0   7   0   0   1   1   0   0   6   0   0   3   0   1   0   1\n",
      "    0   0   1   0  40   3  22   0   0   0]\n",
      " [  0   0   1   0   0   0   1   5  14   0  27   0  18   1   0   5   0   0\n",
      "    0   0   0   4  12   9   1   2   3   1]\n",
      " [  6   1   0   2   1   0   3   1   0   0   2   1   1  29   1   5   0   1\n",
      "    2   0   6   1  22   3   5   1   0   0]\n",
      " [  1   0   1   0   0   0   0   0   0   0   4   0   2   1   0   0   0   0\n",
      "    0   0   2   3   4   1   0   1   0   0]\n",
      " [  2   1   1   3   0   0   1  13   0   0  46   0   0   2   0  55   1   1\n",
      "    1   0   6  17  16   1   3   0   0  11]\n",
      " [  1   0   6   0   7   0   0   0   0   0  15   3   2   1   1   0  15   0\n",
      "    1   0   0   1  16   1   7   1   3   0]\n",
      " [  1   3   0   0   2   0   0   0   0   1  29   0   0   3   0   0   0 277\n",
      "    0   3   0   0  68   4   3   0   0   6]\n",
      " [  3   1   0   0   7   0   0   0   0   0   1   2   0   0   0   0   1   0\n",
      "   53   0   0   0  19   0   2   0   1   0]\n",
      " [  0   1   0   1   0   0   0   0   0   1   7   0   0   0   0   0   0  13\n",
      "    0   6   0   1  51   9   0   0   0   1]\n",
      " [  0   0   0   2   0   0   0   8   0   0   7   1   2   4   0  11   0   0\n",
      "    0   0  18  15  12   0   6   2   1   1]\n",
      " [  0   0   0   1   0   1   1  27   4   0   7   0   2   7   0  19   0   0\n",
      "    0   0   5  91  10   3   0   0   0   0]\n",
      " [  8  22   3   2   1   2  24   1   1   1  91   6   5   3   0   4   3  54\n",
      "    2  18   4  12 487  39  22   4   5   9]\n",
      " [ 10   1   6   3   0   0   5   5   3   0  14   1   2   1   0   1   2   3\n",
      "    0   3   0  10 124  69   4   2   5   2]\n",
      " [ 15   3   2   6   1   0   2   1   2   0  13  13   0   2   0   1   4   0\n",
      "    4   0   3   3  57   7  20   5   2   1]\n",
      " [  1   0   3   2   0   0   0   1  10   0   6   1   4   3   1  10   0   0\n",
      "    1   0   7   5  18   7   6   5   0   0]\n",
      " [  2   1   5   0   2   0   0   0   0   0  18   0   1   0   0   6   1   1\n",
      "    2   0   0   1  18   9   3   2  19   0]\n",
      " [  0   0   0   1   1   0   0   2   7   1 146   0   1   0   0   2   0   8\n",
      "    3   0   0   1  10   4   0   0   0 186]]\n"
     ]
    }
   ],
   "source": [
    "from sklearn.metrics import confusion_matrix\n",
    "\n",
    "predict = model.predict(x_val)\n",
    "confmat = confusion_matrix(y_true=y_val, y_pred=predict)\n",
    "print(confmat)"
   ]
  },
  {
   "cell_type": "markdown",
   "id": "ed3da592",
   "metadata": {},
   "source": [
    "## 다중 분류(Multi-Class Classification, 1:n)"
   ]
  },
  {
   "cell_type": "code",
   "execution_count": 38,
   "id": "6f829023",
   "metadata": {
    "scrolled": false
   },
   "outputs": [
    {
     "name": "stdout",
     "output_type": "stream",
     "text": [
      "5296\n",
      "189.14285714285714\n"
     ]
    }
   ],
   "source": [
    "print(len(x_val))\n",
    "print(len(x_val)/28)"
   ]
  },
  {
   "cell_type": "code",
   "execution_count": 39,
   "id": "0a24b306",
   "metadata": {
    "scrolled": true
   },
   "outputs": [
    {
     "data": {
      "text/plain": [
       "array(['acoustic', 'alternative', 'blues', 'chill', 'classical', 'club',\n",
       "       'country', 'dance', 'disco', 'drum-and-bass', 'electronic', 'folk',\n",
       "       'funk', 'gospel', 'groove', 'hip-hop', 'jazz', 'metal', 'opera',\n",
       "       'punk', 'r-n-b', 'reggae', 'rock', 'rock-n-roll',\n",
       "       'singer-songwriter', 'soul', 'tango', 'techno'], dtype=object)"
      ]
     },
     "execution_count": 39,
     "metadata": {},
     "output_type": "execute_result"
    }
   ],
   "source": [
    "le.classes_"
   ]
  },
  {
   "cell_type": "code",
   "execution_count": 40,
   "id": "665de983",
   "metadata": {},
   "outputs": [
    {
     "name": "stdout",
     "output_type": "stream",
     "text": [
      "acoustic\n",
      "TP: 12\n",
      "FN: 172\n",
      "FP: 90\n",
      "TN: 5022\n",
      "Accuracy: 0.9505287009063444\n",
      "Recall: 0.06521739130434782\n",
      "Precision: 0.11764705882352941\n",
      "F1: 0.08391608391608392\n"
     ]
    },
    {
     "data": {
      "image/png": "[encoded data removed]",
      "text/plain": [
       "<Figure size 180x180 with 1 Axes>"
      ]
     },
     "metadata": {},
     "output_type": "display_data"
    },
    {
     "name": "stdout",
     "output_type": "stream",
     "text": [
      "==================================================\n",
      "alternative\n",
      "TP: 10\n",
      "FN: 176\n",
      "FP: 57\n",
      "TN: 5053\n",
      "Accuracy: 0.9560045317220544\n",
      "Recall: 0.053763440860215055\n",
      "Precision: 0.14925373134328357\n",
      "F1: 0.07905138339920949\n"
     ]
    },
    {
     "data": {
      "image/png": "[encoded data removed]",
      "text/plain": [
       "<Figure size 180x180 with 1 Axes>"
      ]
     },
     "metadata": {},
     "output_type": "display_data"
    },
    {
     "name": "stdout",
     "output_type": "stream",
     "text": [
      "==================================================\n",
      "blues\n",
      "TP: 15\n",
      "FN: 77\n",
      "FP: 36\n",
      "TN: 5168\n",
      "Accuracy: 0.9786631419939577\n",
      "Recall: 0.16304347826086957\n",
      "Precision: 0.29411764705882354\n",
      "F1: 0.2097902097902098\n"
     ]
    },
    {
     "data": {
      "image/png": "[encoded data removed]",
      "text/plain": [
       "<Figure size 180x180 with 1 Axes>"
      ]
     },
     "metadata": {},
     "output_type": "display_data"
    },
    {
     "name": "stdout",
     "output_type": "stream",
     "text": [
      "==================================================\n",
      "chill\n",
      "TP: 0\n",
      "FN: 92\n",
      "FP: 60\n",
      "TN: 5144\n",
      "Accuracy: 0.9712990936555891\n",
      "Recall: 0.0\n",
      "Precision: 0.0\n",
      "F1: nan\n"
     ]
    },
    {
     "name": "stderr",
     "output_type": "stream",
     "text": [
      "<ipython-input-40-20f2dd559739>:26: RuntimeWarning: invalid value encountered in double_scalars\n",
      "  print('F1:', 2*(Precision*Recall)/(Precision+Recall))\n"
     ]
    },
    {
     "data": {
      "image/png": "[encoded data removed]",
      "text/plain": [
       "<Figure size 180x180 with 1 Axes>"
      ]
     },
     "metadata": {},
     "output_type": "display_data"
    },
    {
     "name": "stdout",
     "output_type": "stream",
     "text": [
      "==================================================\n",
      "classical\n",
      "TP: 52\n",
      "FN: 29\n",
      "FP: 31\n",
      "TN: 5184\n",
      "Accuracy: 0.9886706948640483\n",
      "Recall: 0.6419753086419753\n",
      "Precision: 0.6265060240963856\n",
      "F1: 0.6341463414634146\n"
     ]
    },
    {
     "data": {
      "image/png": "[encoded data removed]",
      "text/plain": [
       "<Figure size 180x180 with 1 Axes>"
      ]
     },
     "metadata": {},
     "output_type": "display_data"
    },
    {
     "name": "stdout",
     "output_type": "stream",
     "text": [
      "==================================================\n",
      "club\n",
      "TP: 0\n",
      "FN: 20\n",
      "FP: 9\n",
      "TN: 5267\n",
      "Accuracy: 0.99452416918429\n",
      "Recall: 0.0\n",
      "Precision: 0.0\n",
      "F1: nan\n"
     ]
    },
    {
     "data": {
      "image/png": "[encoded data removed]",
      "text/plain": [
       "<Figure size 180x180 with 1 Axes>"
      ]
     },
     "metadata": {},
     "output_type": "display_data"
    },
    {
     "name": "stdout",
     "output_type": "stream",
     "text": [
      "==================================================\n",
      "country\n",
      "TP: 15\n",
      "FN: 76\n",
      "FP: 45\n",
      "TN: 5160\n",
      "Accuracy: 0.9771525679758308\n",
      "Recall: 0.16483516483516483\n",
      "Precision: 0.25\n",
      "F1: 0.19867549668874174\n"
     ]
    },
    {
     "data": {
      "image/png": "[encoded data removed]",
      "text/plain": [
       "<Figure size 180x180 with 1 Axes>"
      ]
     },
     "metadata": {},
     "output_type": "display_data"
    },
    {
     "name": "stdout",
     "output_type": "stream",
     "text": [
      "==================================================\n",
      "dance\n",
      "TP: 43\n",
      "FN: 125\n",
      "FP: 83\n",
      "TN: 5045\n",
      "Accuracy: 0.9607250755287009\n",
      "Recall: 0.25595238095238093\n",
      "Precision: 0.3412698412698413\n",
      "F1: 0.2925170068027211\n"
     ]
    },
    {
     "data": {
      "image/png": "[encoded data removed]",
      "text/plain": [
       "<Figure size 180x180 with 1 Axes>"
      ]
     },
     "metadata": {},
     "output_type": "display_data"
    },
    {
     "name": "stdout",
     "output_type": "stream",
     "text": [
      "==================================================\n",
      "disco\n",
      "TP: 0\n",
      "FN: 91\n",
      "FP: 66\n",
      "TN: 5139\n",
      "Accuracy: 0.9703549848942599\n",
      "Recall: 0.0\n",
      "Precision: 0.0\n",
      "F1: nan\n"
     ]
    },
    {
     "data": {
      "image/png": "[encoded data removed]",
      "text/plain": [
       "<Figure size 180x180 with 1 Axes>"
      ]
     },
     "metadata": {},
     "output_type": "display_data"
    },
    {
     "name": "stdout",
     "output_type": "stream",
     "text": [
      "==================================================\n",
      "drum-and-bass\n",
      "TP: 60\n",
      "FN: 34\n",
      "FP: 15\n",
      "TN: 5187\n",
      "Accuracy: 0.9907477341389728\n",
      "Recall: 0.6382978723404256\n",
      "Precision: 0.8\n",
      "F1: 0.7100591715976332\n"
     ]
    },
    {
     "data": {
      "image/png": "[encoded data removed]",
      "text/plain": [
       "<Figure size 180x180 with 1 Axes>"
      ]
     },
     "metadata": {},
     "output_type": "display_data"
    },
    {
     "name": "stdout",
     "output_type": "stream",
     "text": [
      "==================================================\n",
      "electronic\n",
      "TP: 689\n",
      "FN: 256\n",
      "FP: 633\n",
      "TN: 3718\n",
      "Accuracy: 0.8321374622356495\n",
      "Recall: 0.7291005291005291\n",
      "Precision: 0.5211800302571861\n",
      "F1: 0.607851786501985\n"
     ]
    },
    {
     "data": {
      "image/png": "[encoded data removed]",
      "text/plain": [
       "<Figure size 180x180 with 1 Axes>"
      ]
     },
     "metadata": {},
     "output_type": "display_data"
    },
    {
     "name": "stdout",
     "output_type": "stream",
     "text": [
      "==================================================\n",
      "folk\n",
      "TP: 0\n",
      "FN: 92\n",
      "FP: 40\n",
      "TN: 5164\n",
      "Accuracy: 0.9750755287009063\n",
      "Recall: 0.0\n",
      "Precision: 0.0\n",
      "F1: nan\n"
     ]
    },
    {
     "data": {
      "image/png": "[encoded data removed]",
      "text/plain": [
       "<Figure size 180x180 with 1 Axes>"
      ]
     },
     "metadata": {},
     "output_type": "display_data"
    },
    {
     "name": "stdout",
     "output_type": "stream",
     "text": [
      "==================================================\n",
      "funk\n",
      "TP: 18\n",
      "FN: 86\n",
      "FP: 54\n",
      "TN: 5138\n",
      "Accuracy: 0.9735649546827795\n",
      "Recall: 0.17307692307692307\n",
      "Precision: 0.25\n",
      "F1: 0.20454545454545453\n"
     ]
    },
    {
     "data": {
      "image/png": "[encoded data removed]",
      "text/plain": [
       "<Figure size 180x180 with 1 Axes>"
      ]
     },
     "metadata": {},
     "output_type": "display_data"
    },
    {
     "name": "stdout",
     "output_type": "stream",
     "text": [
      "==================================================\n",
      "gospel\n",
      "TP: 29\n",
      "FN: 65\n",
      "FP: 39\n",
      "TN: 5163\n",
      "Accuracy: 0.9803625377643505\n",
      "Recall: 0.30851063829787234\n",
      "Precision: 0.4264705882352941\n",
      "F1: 0.35802469135802467\n"
     ]
    },
    {
     "data": {
      "image/png": "[encoded data removed]",
      "text/plain": [
       "<Figure size 180x180 with 1 Axes>"
      ]
     },
     "metadata": {},
     "output_type": "display_data"
    },
    {
     "name": "stdout",
     "output_type": "stream",
     "text": [
      "==================================================\n",
      "groove\n",
      "TP: 0\n",
      "FN: 20\n",
      "FP: 6\n",
      "TN: 5270\n",
      "Accuracy: 0.9950906344410876\n",
      "Recall: 0.0\n",
      "Precision: 0.0\n",
      "F1: nan\n"
     ]
    },
    {
     "data": {
      "image/png": "[encoded data removed]",
      "text/plain": [
       "<Figure size 180x180 with 1 Axes>"
      ]
     },
     "metadata": {},
     "output_type": "display_data"
    },
    {
     "name": "stdout",
     "output_type": "stream",
     "text": [
      "==================================================\n",
      "hip-hop\n",
      "TP: 55\n",
      "FN: 126\n",
      "FP: 105\n",
      "TN: 5010\n",
      "Accuracy: 0.9563821752265861\n",
      "Recall: 0.30386740331491713\n",
      "Precision: 0.34375\n",
      "F1: 0.32258064516129037\n"
     ]
    },
    {
     "data": {
      "image/png": "[encoded data removed]",
      "text/plain": [
       "<Figure size 180x180 with 1 Axes>"
      ]
     },
     "metadata": {},
     "output_type": "display_data"
    },
    {
     "name": "stdout",
     "output_type": "stream",
     "text": [
      "==================================================\n",
      "jazz\n",
      "TP: 15\n",
      "FN: 66\n",
      "FP: 21\n",
      "TN: 5194\n",
      "Accuracy: 0.9835725075528701\n",
      "Recall: 0.18518518518518517\n",
      "Precision: 0.4166666666666667\n",
      "F1: 0.2564102564102564\n"
     ]
    },
    {
     "data": {
      "image/png": "[encoded data removed]",
      "text/plain": [
       "<Figure size 180x180 with 1 Axes>"
      ]
     },
     "metadata": {},
     "output_type": "display_data"
    },
    {
     "name": "stdout",
     "output_type": "stream",
     "text": [
      "==================================================\n",
      "metal\n",
      "TP: 277\n",
      "FN: 123\n",
      "FP: 119\n",
      "TN: 4777\n",
      "Accuracy: 0.9543051359516617\n",
      "Recall: 0.6925\n",
      "Precision: 0.6994949494949495\n",
      "F1: 0.6959798994974874\n"
     ]
    },
    {
     "data": {
      "image/png": "[encoded data removed]",
      "text/plain": [
       "<Figure size 180x180 with 1 Axes>"
      ]
     },
     "metadata": {},
     "output_type": "display_data"
    },
    {
     "name": "stdout",
     "output_type": "stream",
     "text": [
      "==================================================\n",
      "opera\n",
      "TP: 53\n",
      "FN: 37\n",
      "FP: 27\n",
      "TN: 5179\n",
      "Accuracy: 0.9879154078549849\n",
      "Recall: 0.5888888888888889\n",
      "Precision: 0.6625\n",
      "F1: 0.6235294117647059\n"
     ]
    },
    {
     "data": {
      "image/png": "[encoded data removed]",
      "text/plain": [
       "<Figure size 180x180 with 1 Axes>"
      ]
     },
     "metadata": {},
     "output_type": "display_data"
    },
    {
     "name": "stdout",
     "output_type": "stream",
     "text": [
      "==================================================\n",
      "punk\n",
      "TP: 6\n",
      "FN: 85\n",
      "FP: 27\n",
      "TN: 5178\n",
      "Accuracy: 0.9788519637462235\n",
      "Recall: 0.06593406593406594\n",
      "Precision: 0.18181818181818182\n",
      "F1: 0.0967741935483871\n"
     ]
    },
    {
     "data": {
      "image/png": "[encoded data removed]",
      "text/plain": [
       "<Figure size 180x180 with 1 Axes>"
      ]
     },
     "metadata": {},
     "output_type": "display_data"
    },
    {
     "name": "stdout",
     "output_type": "stream",
     "text": [
      "==================================================\n",
      "r-n-b\n",
      "TP: 18\n",
      "FN: 72\n",
      "FP: 46\n",
      "TN: 5160\n",
      "Accuracy: 0.9777190332326284\n",
      "Recall: 0.2\n",
      "Precision: 0.28125\n",
      "F1: 0.23376623376623376\n"
     ]
    },
    {
     "data": {
      "image/png": "[encoded data removed]",
      "text/plain": [
       "<Figure size 180x180 with 1 Axes>"
      ]
     },
     "metadata": {},
     "output_type": "display_data"
    },
    {
     "name": "stdout",
     "output_type": "stream",
     "text": [
      "==================================================\n",
      "reggae\n",
      "TP: 91\n",
      "FN: 87\n",
      "FP: 118\n",
      "TN: 5000\n",
      "Accuracy: 0.9612915407854985\n",
      "Recall: 0.5112359550561798\n",
      "Precision: 0.4354066985645933\n",
      "F1: 0.47028423772609823\n"
     ]
    },
    {
     "data": {
      "image/png": "[encoded data removed]",
      "text/plain": [
       "<Figure size 180x180 with 1 Axes>"
      ]
     },
     "metadata": {},
     "output_type": "display_data"
    },
    {
     "name": "stdout",
     "output_type": "stream",
     "text": [
      "==================================================\n",
      "rock\n",
      "TP: 487\n",
      "FN: 346\n",
      "FP: 844\n",
      "TN: 3619\n",
      "Accuracy: 0.7753021148036254\n",
      "Recall: 0.5846338535414166\n",
      "Precision: 0.36589030803906836\n",
      "F1: 0.4500924214417745\n"
     ]
    },
    {
     "data": {
      "image/png": "[encoded data removed]",
      "text/plain": [
       "<Figure size 180x180 with 1 Axes>"
      ]
     },
     "metadata": {},
     "output_type": "display_data"
    },
    {
     "name": "stdout",
     "output_type": "stream",
     "text": [
      "==================================================\n",
      "rock-n-roll\n",
      "TP: 69\n",
      "FN: 207\n",
      "FP: 152\n",
      "TN: 4868\n",
      "Accuracy: 0.9322129909365559\n",
      "Recall: 0.25\n",
      "Precision: 0.31221719457013575\n",
      "F1: 0.2776659959758551\n"
     ]
    },
    {
     "data": {
      "image/png": "[encoded data removed]",
      "text/plain": [
       "<Figure size 180x180 with 1 Axes>"
      ]
     },
     "metadata": {},
     "output_type": "display_data"
    },
    {
     "name": "stdout",
     "output_type": "stream",
     "text": [
      "==================================================\n",
      "singer-songwriter\n",
      "TP: 20\n",
      "FN: 147\n",
      "FP: 147\n",
      "TN: 4982\n",
      "Accuracy: 0.9444864048338368\n",
      "Recall: 0.11976047904191617\n",
      "Precision: 0.11976047904191617\n",
      "F1: 0.11976047904191617\n"
     ]
    },
    {
     "data": {
      "image/png": "[encoded data removed]",
      "text/plain": [
       "<Figure size 180x180 with 1 Axes>"
      ]
     },
     "metadata": {},
     "output_type": "display_data"
    },
    {
     "name": "stdout",
     "output_type": "stream",
     "text": [
      "==================================================\n",
      "soul\n",
      "TP: 5\n",
      "FN: 86\n",
      "FP: 40\n",
      "TN: 5165\n",
      "Accuracy: 0.9762084592145015\n",
      "Recall: 0.054945054945054944\n",
      "Precision: 0.1111111111111111\n",
      "F1: 0.07352941176470587\n"
     ]
    },
    {
     "data": {
      "image/png": "[encoded data removed]",
      "text/plain": [
       "<Figure size 180x180 with 1 Axes>"
      ]
     },
     "metadata": {},
     "output_type": "display_data"
    },
    {
     "name": "stdout",
     "output_type": "stream",
     "text": [
      "==================================================\n",
      "tango\n",
      "TP: 19\n",
      "FN: 72\n",
      "FP: 30\n",
      "TN: 5175\n",
      "Accuracy: 0.9807401812688822\n",
      "Recall: 0.2087912087912088\n",
      "Precision: 0.3877551020408163\n",
      "F1: 0.2714285714285714\n"
     ]
    },
    {
     "data": {
      "image/png": "[encoded data removed]",
      "text/plain": [
       "<Figure size 180x180 with 1 Axes>"
      ]
     },
     "metadata": {},
     "output_type": "display_data"
    },
    {
     "name": "stdout",
     "output_type": "stream",
     "text": [
      "==================================================\n",
      "techno\n",
      "TP: 186\n",
      "FN: 187\n",
      "FP: 112\n",
      "TN: 4811\n",
      "Accuracy: 0.9435422960725075\n",
      "Recall: 0.49865951742627346\n",
      "Precision: 0.6241610738255033\n",
      "F1: 0.5543964232488823\n"
     ]
    },
    {
     "data": {
      "image/png": "[encoded data removed]",
      "text/plain": [
       "<Figure size 180x180 with 1 Axes>"
      ]
     },
     "metadata": {},
     "output_type": "display_data"
    },
    {
     "name": "stdout",
     "output_type": "stream",
     "text": [
      "==================================================\n"
     ]
    }
   ],
   "source": [
    "for i in range(len(le.classes_)):\n",
    "    print(le.classes_[i])\n",
    "\n",
    "    tot_num =sum(sum(confmat))\n",
    "    \n",
    "    TP = 0\n",
    "    FN = 0\n",
    "    FP = 0\n",
    "    TN = 0\n",
    "\n",
    "    TP = confmat[i,i]\n",
    "    FN = sum(confmat[i, :])-confmat[i,i]\n",
    "    FP = sum(confmat[:,i])-confmat[i,i]\n",
    "    TN = tot_num - TP - FN - FP\n",
    "\n",
    "    print(\"TP:\", TP)\n",
    "    print(\"FN:\", FN)\n",
    "    print(\"FP:\", FP)\n",
    "    print(\"TN:\", TN)\n",
    "    print('Accuracy:', (TP+TN) / (TP+FN+FP+TN))\n",
    "    print('Recall:', TP / (TP+FN))\n",
    "    print('Precision:', TP / (TP+FP))\n",
    "   \n",
    "    Precision = TP/(TP+FP)\n",
    "    Recall = TP/(TP+FN)\n",
    "    print('F1:', 2*(Precision*Recall)/(Precision+Recall))\n",
    "\n",
    "    # from sklearn.metrics import precision_score, recall_score => 이진 분류에서 가능.. 우리같이 멀티 컬럼일 경우 error\n",
    "    # ref: https://datascienceschool.net/03%20machine%20learning/09.04%20%EB%B6%84%EB%A5%98%20%EC%84%B1%EB%8A%A5%ED%8F%89%EA%B0%80.html\n",
    "    \n",
    "    confmat2 = np.array([[TN, FP], [FN, TP]])\n",
    "\n",
    "    fig, ax = plt.subplots(figsize=(2.5, 2.5))\n",
    "    ax.matshow(confmat2, cmap=plt.cm.Blues, alpha=0.3)\n",
    "    for i in range(confmat2.shape[0]):\n",
    "        for j in range(confmat2.shape[1]):\n",
    "            ax.text(x=j, y=i, s=confmat2[i,j], va='center', ha='center')\n",
    "\n",
    "    plt.xlabel('Predicted label')\n",
    "    plt.ylabel('True label')\n",
    "    plt.tight_layout()\n",
    "    plt.show()\n",
    "    \n",
    "    print('='*50)"
   ]
  },
  {
   "cell_type": "markdown",
   "id": "f865f9f2",
   "metadata": {},
   "source": [
    "## Micro average"
   ]
  },
  {
   "cell_type": "code",
   "execution_count": 41,
   "id": "4b9e14f9",
   "metadata": {
    "scrolled": false
   },
   "outputs": [
    {
     "name": "stdout",
     "output_type": "stream",
     "text": [
      "TP: [ 12  10  15   0  52   0  15  43   0  60 689   0  18  29   0  55  15 277\n",
      "  53   6  18  91 487  69  20   5  19 186]\n",
      "FN: [ 90  57  36  60  31   9  45  83  66  15 633  40  54  39   6 105  21 119\n",
      "  27  27  46 118 844 152 147  40  30 112]\n",
      "FP: [ 90  57  36  60  31   9  45  83  66  15 633  40  54  39   6 105  21 119\n",
      "  27  27  46 118 844 152 147  40  30 112]\n",
      "TN: [5104 5172 5209 5176 5182 5278 5191 5087 5164 5206 3341 5216 5170 5189\n",
      " 5284 5031 5239 4781 5189 5236 5186 4969 3121 4923 4982 5211 5217 4886]\n",
      "==================================================\n",
      "TP 합: 2244\n",
      "FN 합: 3052\n",
      "FP 합: 3052\n",
      "TN 합: 139940\n",
      "==================================================\n",
      "Accuracy: 0.9588368580060423\n",
      "Precision: 0.42371601208459214\n",
      "Recall: 0.42371601208459214\n",
      "F1: 0.4237160120845921\n",
      "==================================================\n"
     ]
    },
    {
     "data": {
      "image/png": "[encoded data removed]",
      "text/plain": [
       "<Figure size 180x180 with 1 Axes>"
      ]
     },
     "metadata": {},
     "output_type": "display_data"
    }
   ],
   "source": [
    "tot_num =sum(sum(confmat))   # y_val: (26460,)\n",
    "i = range(0,28)\n",
    "\n",
    "TP = 0\n",
    "FN = 0\n",
    "FP = 0\n",
    "TN = 0\n",
    "\n",
    "TP = confmat[i,i]\n",
    "FN = sum(confmat[i, :])-confmat[i,i]\n",
    "FP = sum(confmat[:,i])-confmat[i,i]\n",
    "TN = tot_num - TP - FN - FP\n",
    "\n",
    "sumtp=sum(TP)\n",
    "sumfn=sum(FN)\n",
    "sumfp=sum(FP)\n",
    "sumtn=sum(TN)\n",
    "\n",
    "print(\"TP:\",TP)\n",
    "print(\"FN:\", FN)\n",
    "print(\"FP:\", FP)\n",
    "print(\"TN:\", TN)\n",
    "print('='*50)\n",
    "\n",
    "print(\"TP 합:\",sum(TP))\n",
    "print(\"FN 합:\",sum(FN))\n",
    "print(\"FP 합:\",sum(FP))\n",
    "print(\"TN 합:\",sum(TN)) # TP가낮고 TN이 매우높은 이유 : 타겟이 너무많아서(28개)\n",
    "print('='*50)\n",
    "\n",
    "Precision = sumtp/(sumtp+sumfp)\n",
    "Recall = sumtp/(sumtp+sumfn)\n",
    "\n",
    "print('Accuracy:', (sumtp+sumtn) / (sumtp+sumfn+sumfp+sumtn)) # TP는 낮지만 TN은 매우높기때문에 정확도 자체는 높음... \n",
    "print('Precision:', sumtp/(sumtp+sumfp))\n",
    "# 함수코드 : print(\"Precision Score : \",precision_score(y_val, predict, average='micro'))\n",
    "print('Recall:', sumtp/(sumtp+sumfn)) # 오버샘플링을 한상태이므로 FN과 FP의 합이\n",
    "# 함수코드 : print(\"Recall Score : \",recall_score(y_val, predict, average='micro'))\n",
    "print('F1:', 2*(Precision*Recall)/(Precision+Recall)) # 같은 값을 조화평균하면 당연히 같은 값이 나옴\n",
    "# 함수코드 : print(\"F1 Score : \",f1_score(y_val, predict, average='micro'))\n",
    "print('='*50)\n",
    "\n",
    "confmat3 = np.array([[sumtn, sumfp], [sumfn, sumtp]])\n",
    "\n",
    "fig, ax = plt.subplots(figsize=(2.5, 2.5))\n",
    "ax.matshow(confmat3, cmap=plt.cm.Blues, alpha=0.3)\n",
    "for i in range(confmat3.shape[0]):\n",
    "    for j in range(confmat3.shape[1]):\n",
    "        ax.text(x=j, y=i, s=confmat3[i,j], va='center', ha='center')\n",
    "\n",
    "plt.xlabel('Predicted label')\n",
    "plt.ylabel('True label')\n",
    "plt.tight_layout()\n",
    "plt.show()"
   ]
  }
 ],
 "metadata": {
  "kernelspec": {
   "display_name": "Python 3",
   "language": "python",
   "name": "python3"
  },
  "language_info": {
   "codemirror_mode": {
    "name": "ipython",
    "version": 3
   },
   "file_extension": ".py",
   "mimetype": "text/x-python",
   "name": "python",
   "nbconvert_exporter": "python",
   "pygments_lexer": "ipython3",
   "version": "3.8.8"
  },
  "toc": {
   "base_numbering": 1,
   "nav_menu": {},
   "number_sections": true,
   "sideBar": true,
   "skip_h1_title": false,
   "title_cell": "Table of Contents",
   "title_sidebar": "Contents",
   "toc_cell": false,
   "toc_position": {
    "height": "calc(100% - 180px)",
    "left": "10px",
    "top": "150px",
    "width": "245.76px"
   },
   "toc_section_display": true,
   "toc_window_display": true
  }
 },
 "nbformat": 4,
 "nbformat_minor": 5
}
